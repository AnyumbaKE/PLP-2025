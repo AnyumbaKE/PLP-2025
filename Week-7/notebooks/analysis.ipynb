{
 "cells": [
  {
   "cell_type": "markdown",
   "id": "096b2665",
   "metadata": {},
   "source": [
    "# 📊 Data Analysis Assignment\n",
    "\n",
    "## Objective\n",
    "- Load and analyze a dataset using Pandas.\n",
    "- Perform basic statistics and grouping.\n",
    "- Visualize insights with Matplotlib and Seaborn.\n",
    "\n",
    "Dataset used: **CRMreport.csv** (customer subscription, billing, and package details).\n"
   ]
  },
  {
   "cell_type": "markdown",
   "id": "840c9eea",
   "metadata": {},
   "source": [
    "## Task 1: Load & Explore the Dataset\n"
   ]
  },
  {
   "cell_type": "markdown",
   "id": "51f909aa",
   "metadata": {},
   "source": [
    "```\n",
    "import pandas as pd\n",
    "import matplotlib.pyplot as plt\n",
    "import seaborn as sns\n",
    "import os\n",
    "\n",
    "# Load dataset\n",
    "\n",
    "df = pd.read_csv(\"../data/CRMreport.csv\")\n",
    "df.head()\n",
    "```"
   ]
  },
  {
   "cell_type": "markdown",
   "id": "79380b74",
   "metadata": {},
   "source": [
    "# Dataset info\n",
    "```\n",
    "df.info()\n",
    "```"
   ]
  },
  {
   "cell_type": "markdown",
   "id": "84e5d145",
   "metadata": {},
   "source": [
    "# Check missing values\n",
    "```\n",
    "df.isnull().sum()\n",
    "```"
   ]
  },
  {
   "cell_type": "markdown",
   "id": "8cd0fdd0",
   "metadata": {},
   "source": [
    "# Drop duplicates and clean column names\n",
    "```\n",
    "df = df.drop_duplicates()\n",
    "df.columns = df.columns.str.strip().str.lower().str.replace(\" \", \"_\")\n",
    "df.head()\n",
    "```"
   ]
  },
  {
   "cell_type": "markdown",
   "id": "752e7ebb",
   "metadata": {},
   "source": [
    "## Task 2: Basic Data Analysis\n"
   ]
  },
  {
   "cell_type": "markdown",
   "id": "c9e58bb1",
   "metadata": {},
   "source": [
    "# Summary statistics\n",
    "```\n",
    "df.describe(include=\"all\")\n",
    "```"
   ]
  },
  {
   "cell_type": "markdown",
   "id": "f8a36bf4",
   "metadata": {},
   "source": [
    "# Grouping example: average DAYS per package\n",
    "```\n",
    "if \"pkg\" in df.columns and \"days\" in df.columns:\n",
    "    avg_days_pkg = df.groupby(\"pkg\")[\"days\"].mean().sort_values(ascending=False)\n",
    "    avg_days_pkg\n",
    "```"
   ]
  },
  {
   "cell_type": "markdown",
   "id": "ad0c05ef",
   "metadata": {},
   "source": [
    "## Task 3: Data Visualization\n",
    "```\n",
    "We will create four plots:\n",
    "1. Line chart (installs over time)  \n",
    "2. Bar chart (average days per package)  \n",
    "3. Histogram (distribution of days)  \n",
    "4. Scatter plot (days vs band)  \n",
    "```"
   ]
  },
  {
   "cell_type": "markdown",
   "id": "2883a8ea",
   "metadata": {},
   "source": [
    "```\n",
    "sns.set(style=\"whitegrid\")\n",
    "os.makedirs(\"../outputs\", exist_ok=True)\n",
    "```"
   ]
  },
  {
   "cell_type": "markdown",
   "id": "b2001f03",
   "metadata": {},
   "source": [
    "# 1. Line chart: Installs over time\n",
    "```\n",
    "if \"installdate\" in df.columns:\n",
    "    df[\"installdate\"] = pd.to_datetime(df[\"installdate\"], errors=\"coerce\")\n",
    "    installs_over_time = df.groupby(df[\"installdate\"].dt.to_period(\"M\")).size()\n",
    "    installs_over_time.plot(kind=\"line\", marker=\"o\")\n",
    "    plt.title(\"Installations Over Time\")\n",
    "    plt.xlabel(\"Month\")\n",
    "    plt.ylabel(\"Number of Installs\")\n",
    "    plt.xticks(rotation=45)\n",
    "    plt.tight_layout()\n",
    "    plt.savefig(\"../outputs/line.png\")\n",
    "    plt.show()\n",
    "```"
   ]
  },
  {
   "cell_type": "markdown",
   "id": "82eb9220",
   "metadata": {},
   "source": [
    "# 2. Bar chart: Average DAYS per package\n",
    "```\n",
    "if \"pkg\" in df.columns and \"days\" in df.columns:\n",
    "    sns.barplot(x=\"pkg\", y=\"days\", data=df, estimator=\"mean\", ci=None, order=df[\"pkg\"].value_counts().index)\n",
    "    plt.title(\"Average DAYS per Package\")\n",
    "    plt.xlabel(\"Package\")\n",
    "    plt.ylabel(\"Average DAYS\")\n",
    "    plt.xticks(rotation=45)\n",
    "    plt.tight_layout()\n",
    "    plt.savefig(\"../outputs/bar.png\")\n",
    "    plt.show()\n",
    "```"
   ]
  },
  {
   "cell_type": "markdown",
   "id": "f4479c50",
   "metadata": {},
   "source": [
    "# 3. Histogram: Distribution of DAYS\n",
    "```\n",
    "if \"days\" in df.columns:\n",
    "    plt.hist(df[\"days\"].dropna(), bins=20, edgecolor=\"black\")\n",
    "    plt.title(\"Distribution of DAYS\")\n",
    "    plt.xlabel(\"Days\")\n",
    "    plt.ylabel(\"Frequency\")\n",
    "    plt.tight_layout()\n",
    "    plt.savefig(\"../outputs/histogram.png\")\n",
    "    plt.show()\n",
    "```"
   ]
  },
  {
   "cell_type": "markdown",
   "id": "5ca9f764",
   "metadata": {},
   "source": [
    "# 4. Scatter plot: Days vs Band\n",
    "```\n",
    "if \"days\" in df.columns and \"band\" in df.columns:\n",
    "    sns.scatterplot(x=\"days\", y=\"band\", data=df)\n",
    "    plt.title(\"Days vs Band\")\n",
    "    plt.xlabel(\"Days\")\n",
    "    plt.ylabel(\"Band\")\n",
    "    plt.tight_layout()\n",
    "    plt.savefig(\"../outputs/scatter.png\")\n",
    "    plt.show()\n",
    "```"
   ]
  },
  {
   "cell_type": "markdown",
   "id": "8868880d",
   "metadata": {},
   "source": [
    "## Findings / Observations\n",
    "\n",
    "- The dataset shows how customers are distributed across packages, franchises, and teams.  \n",
    "- Some packages keep customers for longer average `days` than others.  \n",
    "- Installations over time reveal trends (growth, decline, or seasonality).  \n",
    "- Scatter plot of `days` vs `band` helps identify usage patterns or anomalies.  \n"
   ]
  }
 ],
 "metadata": {
  "language_info": {
   "name": "python"
  }
 },
 "nbformat": 4,
 "nbformat_minor": 5
}
